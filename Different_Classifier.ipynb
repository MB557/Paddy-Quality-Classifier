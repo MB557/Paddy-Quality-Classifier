{
 "cells": [
  {
   "cell_type": "markdown",
   "metadata": {},
   "source": [
    "# Model Testing "
   ]
  },
  {
   "cell_type": "code",
   "execution_count": 1,
   "metadata": {},
   "outputs": [],
   "source": [
    "import pandas as pd\n",
    "import numpy as np\n",
    "from matplotlib import pyplot as plt"
   ]
  },
  {
   "cell_type": "code",
   "execution_count": 2,
   "metadata": {},
   "outputs": [],
   "source": [
    "dataset_df=pd.read_csv('grains.csv',index_col='Unnamed: 0')\n",
    "dataset_df=dataset_df.sample(frac=1).reset_index(drop=True)"
   ]
  },
  {
   "cell_type": "code",
   "execution_count": 3,
   "metadata": {},
   "outputs": [],
   "source": [
    "def plot(X,y):\n",
    "    fig = plt.figure(figsize=(7,7))\n",
    "    plt.plot(X[y==0,0],X[y==0,1],'ro',mec='k')\n",
    "    plt.plot(X[y==1,0],X[y==1,1],'go',mec='k')\n",
    "    plt.xlabel('Score on exam 1')\n",
    "    plt.ylabel('Score on exam 2')\n",
    "    plt.legend([\"Failed\",\"Passed\"])\n",
    "    plt.show()"
   ]
  },
  {
   "cell_type": "code",
   "execution_count": 4,
   "metadata": {},
   "outputs": [
    {
     "data": {
      "text/html": [
       "<div>\n",
       "<style scoped>\n",
       "    .dataframe tbody tr th:only-of-type {\n",
       "        vertical-align: middle;\n",
       "    }\n",
       "\n",
       "    .dataframe tbody tr th {\n",
       "        vertical-align: top;\n",
       "    }\n",
       "\n",
       "    .dataframe thead th {\n",
       "        text-align: right;\n",
       "    }\n",
       "</style>\n",
       "<table border=\"1\" class=\"dataframe\">\n",
       "  <thead>\n",
       "    <tr style=\"text-align: right;\">\n",
       "      <th></th>\n",
       "      <th>Unnamed: 0.1</th>\n",
       "      <th>Height</th>\n",
       "      <th>Width</th>\n",
       "      <th>Area</th>\n",
       "      <th>Perimeter</th>\n",
       "      <th>A/P</th>\n",
       "      <th>A/(A+P)</th>\n",
       "      <th>A/(W*H)</th>\n",
       "      <th>Diameter</th>\n",
       "      <th>Label</th>\n",
       "    </tr>\n",
       "  </thead>\n",
       "  <tbody>\n",
       "    <tr>\n",
       "      <th>0</th>\n",
       "      <td>545</td>\n",
       "      <td>71.344236</td>\n",
       "      <td>30.528675</td>\n",
       "      <td>1627.0</td>\n",
       "      <td>177.480229</td>\n",
       "      <td>9.167218</td>\n",
       "      <td>0.901645</td>\n",
       "      <td>0.747000</td>\n",
       "      <td>45.514401</td>\n",
       "      <td>0</td>\n",
       "    </tr>\n",
       "    <tr>\n",
       "      <th>1</th>\n",
       "      <td>60</td>\n",
       "      <td>62.968246</td>\n",
       "      <td>18.439089</td>\n",
       "      <td>889.5</td>\n",
       "      <td>145.982756</td>\n",
       "      <td>6.093185</td>\n",
       "      <td>0.859020</td>\n",
       "      <td>0.766099</td>\n",
       "      <td>33.653329</td>\n",
       "      <td>0</td>\n",
       "    </tr>\n",
       "    <tr>\n",
       "      <th>2</th>\n",
       "      <td>463</td>\n",
       "      <td>64.000000</td>\n",
       "      <td>23.000000</td>\n",
       "      <td>1184.5</td>\n",
       "      <td>151.154328</td>\n",
       "      <td>7.836362</td>\n",
       "      <td>0.886831</td>\n",
       "      <td>0.804688</td>\n",
       "      <td>38.834936</td>\n",
       "      <td>0</td>\n",
       "    </tr>\n",
       "    <tr>\n",
       "      <th>3</th>\n",
       "      <td>914</td>\n",
       "      <td>68.796802</td>\n",
       "      <td>23.323808</td>\n",
       "      <td>1225.0</td>\n",
       "      <td>164.994947</td>\n",
       "      <td>7.424470</td>\n",
       "      <td>0.881298</td>\n",
       "      <td>0.763429</td>\n",
       "      <td>39.493271</td>\n",
       "      <td>0</td>\n",
       "    </tr>\n",
       "    <tr>\n",
       "      <th>4</th>\n",
       "      <td>694</td>\n",
       "      <td>85.883642</td>\n",
       "      <td>25.059928</td>\n",
       "      <td>1691.5</td>\n",
       "      <td>202.551296</td>\n",
       "      <td>8.350971</td>\n",
       "      <td>0.893059</td>\n",
       "      <td>0.785926</td>\n",
       "      <td>46.407809</td>\n",
       "      <td>0</td>\n",
       "    </tr>\n",
       "  </tbody>\n",
       "</table>\n",
       "</div>"
      ],
      "text/plain": [
       "   Unnamed: 0.1     Height      Width    Area   Perimeter       A/P   A/(A+P)  \\\n",
       "0           545  71.344236  30.528675  1627.0  177.480229  9.167218  0.901645   \n",
       "1            60  62.968246  18.439089   889.5  145.982756  6.093185  0.859020   \n",
       "2           463  64.000000  23.000000  1184.5  151.154328  7.836362  0.886831   \n",
       "3           914  68.796802  23.323808  1225.0  164.994947  7.424470  0.881298   \n",
       "4           694  85.883642  25.059928  1691.5  202.551296  8.350971  0.893059   \n",
       "\n",
       "    A/(W*H)   Diameter  Label  \n",
       "0  0.747000  45.514401      0  \n",
       "1  0.766099  33.653329      0  \n",
       "2  0.804688  38.834936      0  \n",
       "3  0.763429  39.493271      0  \n",
       "4  0.785926  46.407809      0  "
      ]
     },
     "execution_count": 4,
     "metadata": {},
     "output_type": "execute_result"
    }
   ],
   "source": [
    "dataset_df.head()"
   ]
  },
  {
   "cell_type": "code",
   "execution_count": 5,
   "metadata": {},
   "outputs": [
    {
     "data": {
      "text/html": [
       "<div>\n",
       "<style scoped>\n",
       "    .dataframe tbody tr th:only-of-type {\n",
       "        vertical-align: middle;\n",
       "    }\n",
       "\n",
       "    .dataframe tbody tr th {\n",
       "        vertical-align: top;\n",
       "    }\n",
       "\n",
       "    .dataframe thead th {\n",
       "        text-align: right;\n",
       "    }\n",
       "</style>\n",
       "<table border=\"1\" class=\"dataframe\">\n",
       "  <thead>\n",
       "    <tr style=\"text-align: right;\">\n",
       "      <th></th>\n",
       "      <th>Unnamed: 0.1</th>\n",
       "      <th>Height</th>\n",
       "      <th>Width</th>\n",
       "      <th>Area</th>\n",
       "      <th>Perimeter</th>\n",
       "      <th>A/P</th>\n",
       "      <th>A/(A+P)</th>\n",
       "      <th>A/(W*H)</th>\n",
       "      <th>Diameter</th>\n",
       "      <th>Label</th>\n",
       "    </tr>\n",
       "  </thead>\n",
       "  <tbody>\n",
       "    <tr>\n",
       "      <th>0</th>\n",
       "      <td>545</td>\n",
       "      <td>71.344236</td>\n",
       "      <td>30.528675</td>\n",
       "      <td>1627.0</td>\n",
       "      <td>177.480229</td>\n",
       "      <td>9.167218</td>\n",
       "      <td>0.901645</td>\n",
       "      <td>0.747000</td>\n",
       "      <td>45.514401</td>\n",
       "      <td>0</td>\n",
       "    </tr>\n",
       "    <tr>\n",
       "      <th>1</th>\n",
       "      <td>60</td>\n",
       "      <td>62.968246</td>\n",
       "      <td>18.439089</td>\n",
       "      <td>889.5</td>\n",
       "      <td>145.982756</td>\n",
       "      <td>6.093185</td>\n",
       "      <td>0.859020</td>\n",
       "      <td>0.766099</td>\n",
       "      <td>33.653329</td>\n",
       "      <td>0</td>\n",
       "    </tr>\n",
       "    <tr>\n",
       "      <th>2</th>\n",
       "      <td>463</td>\n",
       "      <td>64.000000</td>\n",
       "      <td>23.000000</td>\n",
       "      <td>1184.5</td>\n",
       "      <td>151.154328</td>\n",
       "      <td>7.836362</td>\n",
       "      <td>0.886831</td>\n",
       "      <td>0.804688</td>\n",
       "      <td>38.834936</td>\n",
       "      <td>0</td>\n",
       "    </tr>\n",
       "    <tr>\n",
       "      <th>3</th>\n",
       "      <td>914</td>\n",
       "      <td>68.796802</td>\n",
       "      <td>23.323808</td>\n",
       "      <td>1225.0</td>\n",
       "      <td>164.994947</td>\n",
       "      <td>7.424470</td>\n",
       "      <td>0.881298</td>\n",
       "      <td>0.763429</td>\n",
       "      <td>39.493271</td>\n",
       "      <td>0</td>\n",
       "    </tr>\n",
       "    <tr>\n",
       "      <th>4</th>\n",
       "      <td>694</td>\n",
       "      <td>85.883642</td>\n",
       "      <td>25.059928</td>\n",
       "      <td>1691.5</td>\n",
       "      <td>202.551296</td>\n",
       "      <td>8.350971</td>\n",
       "      <td>0.893059</td>\n",
       "      <td>0.785926</td>\n",
       "      <td>46.407809</td>\n",
       "      <td>0</td>\n",
       "    </tr>\n",
       "    <tr>\n",
       "      <th>...</th>\n",
       "      <td>...</td>\n",
       "      <td>...</td>\n",
       "      <td>...</td>\n",
       "      <td>...</td>\n",
       "      <td>...</td>\n",
       "      <td>...</td>\n",
       "      <td>...</td>\n",
       "      <td>...</td>\n",
       "      <td>...</td>\n",
       "      <td>...</td>\n",
       "    </tr>\n",
       "    <tr>\n",
       "      <th>2241</th>\n",
       "      <td>401</td>\n",
       "      <td>72.111026</td>\n",
       "      <td>26.627054</td>\n",
       "      <td>1468.0</td>\n",
       "      <td>172.308656</td>\n",
       "      <td>8.519595</td>\n",
       "      <td>0.894954</td>\n",
       "      <td>0.764542</td>\n",
       "      <td>43.233270</td>\n",
       "      <td>0</td>\n",
       "    </tr>\n",
       "    <tr>\n",
       "      <th>2242</th>\n",
       "      <td>500</td>\n",
       "      <td>77.420927</td>\n",
       "      <td>20.248457</td>\n",
       "      <td>1165.5</td>\n",
       "      <td>176.551298</td>\n",
       "      <td>6.601481</td>\n",
       "      <td>0.868447</td>\n",
       "      <td>0.743467</td>\n",
       "      <td>38.522210</td>\n",
       "      <td>0</td>\n",
       "    </tr>\n",
       "    <tr>\n",
       "      <th>2243</th>\n",
       "      <td>228</td>\n",
       "      <td>79.075913</td>\n",
       "      <td>29.681644</td>\n",
       "      <td>1787.5</td>\n",
       "      <td>196.894443</td>\n",
       "      <td>9.078469</td>\n",
       "      <td>0.900779</td>\n",
       "      <td>0.761577</td>\n",
       "      <td>47.706558</td>\n",
       "      <td>0</td>\n",
       "    </tr>\n",
       "    <tr>\n",
       "      <th>2244</th>\n",
       "      <td>509</td>\n",
       "      <td>55.470713</td>\n",
       "      <td>21.633308</td>\n",
       "      <td>917.0</td>\n",
       "      <td>136.024385</td>\n",
       "      <td>6.741438</td>\n",
       "      <td>0.870825</td>\n",
       "      <td>0.764157</td>\n",
       "      <td>34.169587</td>\n",
       "      <td>0</td>\n",
       "    </tr>\n",
       "    <tr>\n",
       "      <th>2245</th>\n",
       "      <td>713</td>\n",
       "      <td>81.055537</td>\n",
       "      <td>22.803509</td>\n",
       "      <td>1283.0</td>\n",
       "      <td>227.421353</td>\n",
       "      <td>5.641511</td>\n",
       "      <td>0.849432</td>\n",
       "      <td>0.694132</td>\n",
       "      <td>40.417401</td>\n",
       "      <td>0</td>\n",
       "    </tr>\n",
       "  </tbody>\n",
       "</table>\n",
       "<p>2246 rows × 10 columns</p>\n",
       "</div>"
      ],
      "text/plain": [
       "      Unnamed: 0.1     Height      Width    Area   Perimeter       A/P  \\\n",
       "0              545  71.344236  30.528675  1627.0  177.480229  9.167218   \n",
       "1               60  62.968246  18.439089   889.5  145.982756  6.093185   \n",
       "2              463  64.000000  23.000000  1184.5  151.154328  7.836362   \n",
       "3              914  68.796802  23.323808  1225.0  164.994947  7.424470   \n",
       "4              694  85.883642  25.059928  1691.5  202.551296  8.350971   \n",
       "...            ...        ...        ...     ...         ...       ...   \n",
       "2241           401  72.111026  26.627054  1468.0  172.308656  8.519595   \n",
       "2242           500  77.420927  20.248457  1165.5  176.551298  6.601481   \n",
       "2243           228  79.075913  29.681644  1787.5  196.894443  9.078469   \n",
       "2244           509  55.470713  21.633308   917.0  136.024385  6.741438   \n",
       "2245           713  81.055537  22.803509  1283.0  227.421353  5.641511   \n",
       "\n",
       "       A/(A+P)   A/(W*H)   Diameter  Label  \n",
       "0     0.901645  0.747000  45.514401      0  \n",
       "1     0.859020  0.766099  33.653329      0  \n",
       "2     0.886831  0.804688  38.834936      0  \n",
       "3     0.881298  0.763429  39.493271      0  \n",
       "4     0.893059  0.785926  46.407809      0  \n",
       "...        ...       ...        ...    ...  \n",
       "2241  0.894954  0.764542  43.233270      0  \n",
       "2242  0.868447  0.743467  38.522210      0  \n",
       "2243  0.900779  0.761577  47.706558      0  \n",
       "2244  0.870825  0.764157  34.169587      0  \n",
       "2245  0.849432  0.694132  40.417401      0  \n",
       "\n",
       "[2246 rows x 10 columns]"
      ]
     },
     "execution_count": 5,
     "metadata": {},
     "output_type": "execute_result"
    }
   ],
   "source": [
    "dataset_df"
   ]
  },
  {
   "cell_type": "code",
   "execution_count": 6,
   "metadata": {},
   "outputs": [],
   "source": [
    "X = np.array(dataset_df[[\"Height\",\"Width\",\"Area\",'Perimeter','A/P',\n",
    "       'A/(A+P)', 'A/(W*H)', 'Diameter']])\n",
    "y = np.array(dataset_df[\"Label\"]).reshape(-1,1)"
   ]
  },
  {
   "cell_type": "code",
   "execution_count": 7,
   "metadata": {},
   "outputs": [],
   "source": [
    "y=y.ravel()"
   ]
  },
  {
   "cell_type": "code",
   "execution_count": 8,
   "metadata": {},
   "outputs": [
    {
     "data": {
      "text/plain": [
       "(2246, 8)"
      ]
     },
     "execution_count": 8,
     "metadata": {},
     "output_type": "execute_result"
    }
   ],
   "source": [
    "X.shape"
   ]
  },
  {
   "cell_type": "code",
   "execution_count": 9,
   "metadata": {},
   "outputs": [
    {
     "data": {
      "image/png": "[encoded data removed]",
      "text/plain": [
       "<Figure size 504x504 with 1 Axes>"
      ]
     },
     "metadata": {
      "needs_background": "light"
     },
     "output_type": "display_data"
    }
   ],
   "source": [
    "plot(X,y)"
   ]
  },
  {
   "cell_type": "markdown",
   "metadata": {},
   "source": [
    "# SVM"
   ]
  },
  {
   "cell_type": "code",
   "execution_count": 10,
   "metadata": {},
   "outputs": [],
   "source": [
    "from sklearn.model_selection import train_test_split\n",
    "X_train, X_test, y_train, y_test = train_test_split(X, y, test_size = 0.20)\n",
    "#print(test_x.size)"
   ]
  },
  {
   "cell_type": "code",
   "execution_count": 11,
   "metadata": {},
   "outputs": [
    {
     "data": {
      "text/plain": [
       "SVC(kernel='sigmoid', probability=True)"
      ]
     },
     "execution_count": 11,
     "metadata": {},
     "output_type": "execute_result"
    }
   ],
   "source": [
    "from sklearn.svm import SVC\n",
    "svclassifier = SVC(kernel='sigmoid',probability=True)\n",
    "svclassifier.fit(X_train,y_train.ravel())"
   ]
  },
  {
   "cell_type": "code",
   "execution_count": 12,
   "metadata": {},
   "outputs": [],
   "source": [
    "y_prob=svclassifier.predict_proba(X_test) "
   ]
  },
  {
   "cell_type": "code",
   "execution_count": 13,
   "metadata": {},
   "outputs": [],
   "source": [
    "y_pred = svclassifier.predict(X_test)\n",
    "#print(y_test)"
   ]
  },
  {
   "cell_type": "code",
   "execution_count": 14,
   "metadata": {},
   "outputs": [],
   "source": [
    "train_y_pred=svclassifier.predict(X_train)"
   ]
  },
  {
   "cell_type": "code",
   "execution_count": 15,
   "metadata": {},
   "outputs": [
    {
     "name": "stdout",
     "output_type": "stream",
     "text": [
      "0.9716035634743875\n"
     ]
    }
   ],
   "source": [
    "print(np.mean(train_y_pred==y_train))"
   ]
  },
  {
   "cell_type": "code",
   "execution_count": 16,
   "metadata": {},
   "outputs": [
    {
     "name": "stdout",
     "output_type": "stream",
     "text": [
      "0.9644444444444444\n"
     ]
    }
   ],
   "source": [
    "print(np.mean(y_pred==y_test))"
   ]
  },
  {
   "cell_type": "markdown",
   "metadata": {},
   "source": [
    "# Multinomial NaviBayes"
   ]
  },
  {
   "cell_type": "code",
   "execution_count": 17,
   "metadata": {},
   "outputs": [],
   "source": [
    "from sklearn.naive_bayes import MultinomialNB\n",
    "clf = MultinomialNB()"
   ]
  },
  {
   "cell_type": "code",
   "execution_count": 18,
   "metadata": {},
   "outputs": [],
   "source": [
    "from sklearn.model_selection import train_test_split\n",
    "X_train, X_test, y_train, y_test = train_test_split(X, y, test_size = 0.20)"
   ]
  },
  {
   "cell_type": "code",
   "execution_count": 19,
   "metadata": {},
   "outputs": [
    {
     "data": {
      "text/plain": [
       "MultinomialNB()"
      ]
     },
     "execution_count": 19,
     "metadata": {},
     "output_type": "execute_result"
    }
   ],
   "source": [
    "clf.fit(X_train, y_train)"
   ]
  },
  {
   "cell_type": "code",
   "execution_count": 20,
   "metadata": {},
   "outputs": [],
   "source": [
    "pred_y_test=clf.predict(X_test)"
   ]
  },
  {
   "cell_type": "code",
   "execution_count": 21,
   "metadata": {},
   "outputs": [],
   "source": [
    "pred_y_train=clf.predict(X_train)"
   ]
  },
  {
   "cell_type": "code",
   "execution_count": 22,
   "metadata": {},
   "outputs": [
    {
     "name": "stdout",
     "output_type": "stream",
     "text": [
      "0.88\n"
     ]
    }
   ],
   "source": [
    "print(np.mean(pred_y_test==y_test))"
   ]
  },
  {
   "cell_type": "code",
   "execution_count": 23,
   "metadata": {},
   "outputs": [
    {
     "name": "stdout",
     "output_type": "stream",
     "text": [
      "0.8841870824053452\n"
     ]
    }
   ],
   "source": [
    "print(np.mean(pred_y_train==y_train))"
   ]
  },
  {
   "cell_type": "markdown",
   "metadata": {},
   "source": [
    "# Bernoulli's"
   ]
  },
  {
   "cell_type": "code",
   "execution_count": 24,
   "metadata": {},
   "outputs": [],
   "source": [
    "from sklearn.naive_bayes import BernoulliNB\n",
    "clf = BernoulliNB()"
   ]
  },
  {
   "cell_type": "code",
   "execution_count": 25,
   "metadata": {},
   "outputs": [
    {
     "data": {
      "text/plain": [
       "BernoulliNB()"
      ]
     },
     "execution_count": 25,
     "metadata": {},
     "output_type": "execute_result"
    }
   ],
   "source": [
    "clf.fit(X, y)"
   ]
  },
  {
   "cell_type": "code",
   "execution_count": 26,
   "metadata": {},
   "outputs": [],
   "source": [
    "pred_y_test=clf.predict(X_test)"
   ]
  },
  {
   "cell_type": "code",
   "execution_count": 27,
   "metadata": {},
   "outputs": [],
   "source": [
    "pred_y_train=clf.predict(X_train)"
   ]
  },
  {
   "cell_type": "code",
   "execution_count": 28,
   "metadata": {},
   "outputs": [
    {
     "name": "stdout",
     "output_type": "stream",
     "text": [
      "0.9755555555555555\n"
     ]
    }
   ],
   "source": [
    "print(np.mean(pred_y_test==y_test))"
   ]
  },
  {
   "cell_type": "code",
   "execution_count": 29,
   "metadata": {},
   "outputs": [
    {
     "name": "stdout",
     "output_type": "stream",
     "text": [
      "0.9688195991091314\n"
     ]
    }
   ],
   "source": [
    "print(np.mean(pred_y_train==y_train))"
   ]
  },
  {
   "cell_type": "markdown",
   "metadata": {},
   "source": [
    "# Gaussian"
   ]
  },
  {
   "cell_type": "code",
   "execution_count": 30,
   "metadata": {},
   "outputs": [],
   "source": [
    "from sklearn.naive_bayes import GaussianNB"
   ]
  },
  {
   "cell_type": "code",
   "execution_count": 31,
   "metadata": {},
   "outputs": [],
   "source": [
    "clf= GaussianNB()"
   ]
  },
  {
   "cell_type": "code",
   "execution_count": 32,
   "metadata": {},
   "outputs": [],
   "source": [
    "from sklearn.preprocessing import PowerTransformer"
   ]
  },
  {
   "cell_type": "code",
   "execution_count": 33,
   "metadata": {},
   "outputs": [],
   "source": [
    "power = PowerTransformer(method='yeo-johnson', standardize=True)"
   ]
  },
  {
   "cell_type": "code",
   "execution_count": 34,
   "metadata": {},
   "outputs": [],
   "source": [
    "X_new= power.fit_transform(X)"
   ]
  },
  {
   "cell_type": "code",
   "execution_count": 35,
   "metadata": {},
   "outputs": [
    {
     "data": {
      "image/png": "[encoded data removed]",
      "text/plain": [
       "<Figure size 432x288 with 1 Axes>"
      ]
     },
     "metadata": {
      "needs_background": "light"
     },
     "output_type": "display_data"
    }
   ],
   "source": [
    "plt.hist(X_new, bins=25)\n",
    "plt.show()"
   ]
  },
  {
   "cell_type": "code",
   "execution_count": 36,
   "metadata": {},
   "outputs": [
    {
     "data": {
      "text/plain": [
       "GaussianNB()"
      ]
     },
     "execution_count": 36,
     "metadata": {},
     "output_type": "execute_result"
    }
   ],
   "source": [
    "clf.fit(X_new, y)"
   ]
  },
  {
   "cell_type": "code",
   "execution_count": 37,
   "metadata": {},
   "outputs": [],
   "source": [
    "from sklearn.model_selection import train_test_split\n",
    "X_train, X_test, y_train, y_test = train_test_split(X_new, y, test_size = 0.20)"
   ]
  },
  {
   "cell_type": "code",
   "execution_count": 38,
   "metadata": {},
   "outputs": [],
   "source": [
    "pred_y_test=clf.predict(X_test)"
   ]
  },
  {
   "cell_type": "code",
   "execution_count": 39,
   "metadata": {},
   "outputs": [],
   "source": [
    "pred_y_train=clf.predict(X_train)"
   ]
  },
  {
   "cell_type": "code",
   "execution_count": 40,
   "metadata": {},
   "outputs": [
    {
     "name": "stdout",
     "output_type": "stream",
     "text": [
      "0.9066666666666666\n"
     ]
    }
   ],
   "source": [
    "print(np.mean(pred_y_test==y_test))"
   ]
  },
  {
   "cell_type": "code",
   "execution_count": 41,
   "metadata": {},
   "outputs": [
    {
     "name": "stdout",
     "output_type": "stream",
     "text": [
      "0.9187082405345212\n"
     ]
    }
   ],
   "source": [
    "print(np.mean(pred_y_train==y_train))"
   ]
  },
  {
   "cell_type": "markdown",
   "metadata": {},
   "source": [
    "# KNN"
   ]
  },
  {
   "cell_type": "code",
   "execution_count": 42,
   "metadata": {},
   "outputs": [],
   "source": [
    "from sklearn.neighbors import KNeighborsClassifier"
   ]
  },
  {
   "cell_type": "code",
   "execution_count": 43,
   "metadata": {},
   "outputs": [],
   "source": [
    "clf = KNeighborsClassifier(n_neighbors=3)"
   ]
  },
  {
   "cell_type": "code",
   "execution_count": 44,
   "metadata": {},
   "outputs": [
    {
     "data": {
      "text/plain": [
       "KNeighborsClassifier(n_neighbors=3)"
      ]
     },
     "execution_count": 44,
     "metadata": {},
     "output_type": "execute_result"
    }
   ],
   "source": [
    "clf.fit(X, y)"
   ]
  },
  {
   "cell_type": "code",
   "execution_count": 45,
   "metadata": {},
   "outputs": [],
   "source": [
    "pred_y_test=clf.predict(X_test)"
   ]
  },
  {
   "cell_type": "code",
   "execution_count": 46,
   "metadata": {},
   "outputs": [],
   "source": [
    "pred_y_train=clf.predict(X_train)"
   ]
  },
  {
   "cell_type": "code",
   "execution_count": 47,
   "metadata": {},
   "outputs": [
    {
     "name": "stdout",
     "output_type": "stream",
     "text": [
      "0.02666666666666667\n"
     ]
    }
   ],
   "source": [
    "print(np.mean(pred_y_test==y_test))"
   ]
  },
  {
   "cell_type": "code",
   "execution_count": 48,
   "metadata": {},
   "outputs": [
    {
     "name": "stdout",
     "output_type": "stream",
     "text": [
      "0.030623608017817373\n"
     ]
    }
   ],
   "source": [
    "print(np.mean(pred_y_train==y_train))"
   ]
  },
  {
   "cell_type": "code",
   "execution_count": null,
   "metadata": {},
   "outputs": [],
   "source": []
  }
 ],
 "metadata": {
  "kernelspec": {
   "display_name": "Python 3",
   "language": "python",
   "name": "python3"
  },
  "language_info": {
   "codemirror_mode": {
    "name": "ipython",
    "version": 3
   },
   "file_extension": ".py",
   "mimetype": "text/x-python",
   "name": "python",
   "nbconvert_exporter": "python",
   "pygments_lexer": "ipython3",
   "version": "3.8.5"
  }
 },
 "nbformat": 4,
 "nbformat_minor": 4
}
